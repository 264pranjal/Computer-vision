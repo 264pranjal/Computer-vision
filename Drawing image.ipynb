{
 "cells": [
  {
   "cell_type": "code",
   "execution_count": 1,
   "metadata": {},
   "outputs": [],
   "source": [
    "import cv2\n",
    "import numpy as np"
   ]
  },
  {
   "cell_type": "code",
   "execution_count": 2,
   "metadata": {},
   "outputs": [],
   "source": [
    "#create a black image\n",
    "image = np.zeros((512,512,3), np.uint8)\n",
    "#draw a line\n",
    "cv2.line(image, (0,0), (511,511), (255,127,0), 5)\n",
    "#draw a rectangle\n",
    "cv2.rectangle(image, (100,100), (300,250), (127,50,127), -1)\n",
    "#draw a circle\n",
    "cv2.circle(image, (350, 350), 100, (15,75,50), -1) \n",
    "#draw a polygon\n",
    "pts = np.array( [[10,50], [400,50], [90,200], [50,500]], np.int32)\n",
    "pts = pts.reshape((-1,1,2))\n",
    "cv2.polylines(image, [pts], True, (0,0,255), 3)\n",
    "#enter text\n",
    "cv2.putText(image, 'Hello World!', (75,290), cv2.FONT_HERSHEY_COMPLEX, 2, (100,170,0), 3)\n",
    "cv2.imshow(\"Shapes\", image)\n",
    "\n",
    "cv2.waitKey(0)\n",
    "cv2.destroyAllWindows()"
   ]
  },
  {
   "cell_type": "code",
   "execution_count": null,
   "metadata": {},
   "outputs": [],
   "source": []
  },
  {
   "cell_type": "code",
   "execution_count": null,
   "metadata": {},
   "outputs": [],
   "source": []
  },
  {
   "cell_type": "code",
   "execution_count": null,
   "metadata": {},
   "outputs": [],
   "source": []
  }
 ],
 "metadata": {
  "kernelspec": {
   "display_name": "Python 3",
   "language": "python",
   "name": "python3"
  },
  "language_info": {
   "codemirror_mode": {
    "name": "ipython",
    "version": 3
   },
   "file_extension": ".py",
   "mimetype": "text/x-python",
   "name": "python",
   "nbconvert_exporter": "python",
   "pygments_lexer": "ipython3",
   "version": "3.7.4"
  }
 },
 "nbformat": 4,
 "nbformat_minor": 4
}
